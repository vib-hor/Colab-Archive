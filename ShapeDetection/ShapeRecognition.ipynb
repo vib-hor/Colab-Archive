{
  "nbformat": 4,
  "nbformat_minor": 0,
  "metadata": {
    "colab": {
      "name": "ShapeRecognition.ipynb",
      "private_outputs": true,
      "provenance": [],
      "authorship_tag": "ABX9TyMktwm3TZmt1JeB0eNWsimT",
      "include_colab_link": true
    },
    "kernelspec": {
      "name": "python3",
      "display_name": "Python 3"
    },
    "language_info": {
      "name": "python"
    },
    "accelerator": "TPU"
  },
  "cells": [
    {
      "cell_type": "markdown",
      "metadata": {
        "id": "view-in-github",
        "colab_type": "text"
      },
      "source": [
        "<a href=\"https://colab.research.google.com/github/vib-hor/Colab-Archive/blob/main/ShapeDetection/ShapeRecognition.ipynb\" target=\"_parent\"><img src=\"https://colab.research.google.com/assets/colab-badge.svg\" alt=\"Open In Colab\"/></a>"
      ]
    },
    {
      "cell_type": "markdown",
      "metadata": {
        "id": "WTx_Oo3BP3S6"
      },
      "source": [
        "# Hough Transform \n",
        "\n",
        "Hough Transform is an algorithmic approach to identify shapes in an image using basic image transformations. It is usually used to identify shapes that can be represented by few parameters like lines(m,c), circles(a,b,r), etc. The basic flow of hough transform is shown in the image:\n",
        "\n",
        "\n",
        "![picture](https://github.com/vib-hor/Colab-Archive/blob/main/ShapeDetection/images/HoughFlow.png?raw=true)\n",
        "\n",
        "\n",
        "\n",
        "Hough Transform is used to connect disjoint edge points in an image, so preprocessing is done to extract features using edge detection algorithms (like Canny, Sobel, Laplacian) and then using hough transform the edges  are grouped to highlight shapes. The edge detection algorithm gives a set of coordinates $(x_i,y_i)$ which are then used by the hough transform algorithm depending on the target shape to be identified."
      ]
    },
    {
      "cell_type": "code",
      "metadata": {
        "id": "E2VxcUc_i0OM"
      },
      "source": [
        "#import all the dependencies\n",
        "import cv2\n",
        "import numpy as np\n",
        "from matplotlib import pyplot as plt\n",
        "#to use cv_imshow (opencv's cv2.imshow doesn't work with colab)  \n",
        "#alternatively use plt.imshow() \n",
        "from google.colab.patches import cv2_imshow"
      ],
      "execution_count": null,
      "outputs": []
    },
    {
      "cell_type": "code",
      "metadata": {
        "id": "EqZcFL1R1s0o"
      },
      "source": [
        "#clone Repo to import images\n",
        "!git clone https://github.com/vib-hor/Colab-Archive.git"
      ],
      "execution_count": null,
      "outputs": []
    },
    {
      "cell_type": "markdown",
      "metadata": {
        "id": "U4LavjQyRIoA"
      },
      "source": [
        "# Hough Line Transform\n",
        "---\n",
        "Any line in a two-dimensional plane can be represented by the equation $y=mx+c$, where $m$ is the slope and $c$ is the $y$ intercept of the line. The Hough space is defined as a two-dimensional plane with the horizontal axis representing the slope and the vertical axis representing the intercept of the line on the edge image.\n",
        "Any line on the edge image $(y=mx+c)$ produces a point on the Hough Space since a line is characterized by its slope $m$ and intercept $c$. On the other hand, an edge point $(x_i,y_i)$ on the edge image can have an infinite number of lines pass through it. Therefore, an edge point produces a line in the Hough Space in the form of $c=−mx_i+y_i$. In the Hough Transform algorithm, the Hough Space is used to determine whether a line exists in the edge image.\n",
        "![HoughSpace.png](https://github.com/vib-hor/Colab-Archive/blob/main/ShapeDetection/images/HoughSpace.png?raw=true)\n",
        "\n",
        "## Algorithm:\n",
        "\n",
        "\n",
        ">Step1: Create a Quantized Hough Space $m$-$c$\n",
        "\n",
        ">Step2: Create an Accumulator array $A(m,c)$ and initialize it to 0 \n",
        "\n",
        ">Step3: For each point $(x_i,y_i)$ on line $c = -m x_i +y_i$\n",
        ",do $A(m,c)=A(m,c)+1$\n",
        "\n",
        ">Step4: Look for the maxima in Acumulator array.\n",
        "\n",
        "\n",
        "![Algorithm](https://github.com/vib-hor/Colab-Archive/blob/main/ShapeDetection/images/Algorithm.png?raw=true)\n",
        "\n",
        "### Pratical Implementation \n",
        "For the algorithm the parameter chosen were m and c, where m belongs to $(-\\infty ,\\infty)$, this requires a larger accumulator and uses more memory.\n",
        "Instead of using the $y=mx+c$ the polor representation is used $\\rho=xcos(\\theta)+ysin(\\theta)$, where $\\rho$ length (finite) of normal to the line from origin and $\\theta$ (ranging from $[0,\\pi)$ ) is the angle made by line with x-axis. Hence the new hough space will be defined by $\\rho$-$\\theta$ space."
      ]
    },
    {
      "cell_type": "code",
      "metadata": {
        "id": "ooPJNE5fhNio"
      },
      "source": [
        "#read the image\n",
        "lineImage = cv2.imread('Colab-Archive/ShapeDetection/images/lines.jpg')\n",
        "#Convert to grayscale\n",
        "lineGray = cv2.cvtColor(lineImage, cv2.COLOR_BGR2GRAY)\n",
        "\n",
        "lineEdge = cv2.Canny(lineGray, 50, 400)\n",
        "\n",
        "\n",
        "# blur = cv2.medianBlur(mag_im, 3)\n",
        "line = cv2.HoughLines(lineEdge, 1, np.pi/180, 200)\n",
        "lineOutput = lineImage.copy()\n",
        "\n",
        "for lines in line:\n",
        "    rho = lines[0, 0]\n",
        "    theta = lines[0, 1]\n",
        "\n",
        "    a = np.cos(theta)\n",
        "    b = np.sin(theta)\n",
        "    x0 = a*rho\n",
        "    y0 = b*rho\n",
        "    x1 = int(x0 + 1000*(-b))\n",
        "    y1 = int(y0 + 1000*(a))\n",
        "    x2 = int(x0 - 1000*(-b))\n",
        "    y2 = int(y0 - 1000*(a))\n",
        "\n",
        "    lineOutput = cv2.line(lineOutput, (x1, y1), (x2, y2), (0, 0, 255), thickness=3)\n",
        "\n",
        "plt.imshow(lineGray,cmap=\"gray\")\n",
        "plt.show()\n",
        "\n",
        "plt.imshow(lineEdge,cmap=\"gray\")\n",
        "plt.show()\n",
        "\n",
        "plt.imshow(lineOutput,cmap=\"gray\")\n",
        "plt.show()\n"
      ],
      "execution_count": null,
      "outputs": []
    },
    {
      "cell_type": "markdown",
      "metadata": {
        "id": "FXNODRw1RNMs"
      },
      "source": [
        "# Hough Cicle Transform\n",
        "\n",
        "Similar to the Hough Line transform the Hough Circle Transform is done by defining hough space based on the equation of the circle: $(x_i - a)^2+(y_i-b)^2=r^2$, where $(a,b)$ are the coordinates of the center of the circle and $r$ is the radius. So, for a known radius, the Hough Space can be defined by $a$-$b$ space. Any point on the circle in the image will be a circle in Hough Space and the intersection of all the circles formed by available image points will give the parameters of the circle.\n",
        "Similar to the Hough Line Transform the polar equation of circle $x = a + rcos(\\theta), y = b+rsin(\\theta)$ is used for the practical implementation. "
      ]
    },
    {
      "cell_type": "code",
      "metadata": {
        "id": "jhCRkftq6NGs"
      },
      "source": [
        "#read the image\n",
        "image = cv2.imread('Colab-Archive/ShapeDetection/images/circles.jpg')\n",
        "#convert to grayscale \n",
        "gray = cv2.cvtColor(image, cv2.COLOR_BGR2GRAY)\n",
        "#Add blur with a mask of 3/5\n",
        "blur = cv2.medianBlur(gray, 3)\n",
        "#Hough Circle Transform\n",
        "edges = cv2.Canny(blur, 50, 200)\n",
        "circles = cv2.HoughCircles(blur, cv2.HOUGH_GRADIENT,1.5,10)\n",
        "# circles = cv2.HoughCircles(gray, cv2.HOUGH_GRADIENT, 1, 10)\n",
        "# circles = np.uint16(np.around(circles))\n",
        "output = image.copy()\n",
        "#Draw circles on image\n",
        "for i in circles[0,:]:\n",
        "    cv2.circle(output,(i[0], i[1]), i[2], (255, 0, 0), 2)\n",
        "    cv2.circle(output, (i[0], i[1]), 2, (0, 255, 0), 5)\n",
        "plt.imshow(image, cmap='gray')\n",
        "plt.show()\n",
        "plt.imshow(edges, cmap='gray')\n",
        "plt.show()\n",
        "plt.imshow(output, cmap='gray')\n",
        "plt.show()"
      ],
      "execution_count": null,
      "outputs": []
    },
    {
      "cell_type": "code",
      "metadata": {
        "id": "FqZTmGXg9_Wt"
      },
      "source": [
        ""
      ],
      "execution_count": null,
      "outputs": []
    }
  ]
}