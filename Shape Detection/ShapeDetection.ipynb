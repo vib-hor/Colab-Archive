{
  "nbformat": 4,
  "nbformat_minor": 0,
  "metadata": {
    "colab": {
      "name": "Shape Recognition.ipynb",
      "private_outputs": true,
      "provenance": [],
      "authorship_tag": "ABX9TyN84yyY/NHNMoSPbPQpR8r9"
    },
    "kernelspec": {
      "name": "python3",
      "display_name": "Python 3"
    },
    "language_info": {
      "name": "python"
    }
  },
  "cells": [
    {
      "cell_type": "markdown",
      "metadata": {
        "id": "WTx_Oo3BP3S6"
      },
      "source": [
        "# Hough Transform \n",
        "\n",
        "Hough Transform is an algorithmic approach to identify shapes in an image using basic image trnsformations. It is usually used to identify shapes like lines, circles, ellipse etc. The Basic flow of hough tranfrom is given by image:"
      ]
    },
    {
      "cell_type": "code",
      "metadata": {
        "id": "E2VxcUc_i0OM"
      },
      "source": [
        "#importing all the dependencies\n",
        "\n",
        "import cv2\n",
        "import numpy as np\n",
        "from matplotlib import pyplot as plt\n",
        "#to use cv_imshow (opencv's cv2.imshow doesn't work with colab)  \n",
        "#alternatively use plt.imshow() \n",
        "from google.colab.patches import cv2_imshow"
      ],
      "execution_count": null,
      "outputs": []
    },
    {
      "cell_type": "code",
      "metadata": {
        "id": "jhCRkftq6NGs"
      },
      "source": [
        "#load the image\n",
        "#convert to grayscale and then blur it with a mask of 3/5\n",
        " #Hough Transform performs better on slightly blurred images\n",
        "\n",
        "image = cv2.imread('img.jpg')\n",
        "gray = cv2.cvtColor(image, cv2.COLOR_BGR2GRAY)\n",
        "blur = cv2.medianBlur(gray, 3)\n",
        "\n",
        "circles = cv2.HoughCircles(blur, cv2.HOUGH_GRADIENT,1.5,10)\n",
        "# circles = cv2.HoughCircles(gray, cv2.HOUGH_GRADIENT, 1, 10)\n",
        "# circles = np.uint16(np.around(circles))\n",
        "\n",
        "for i in circles[0,:]:\n",
        "    cv2.circle(image,(i[0], i[1]), i[2], (255, 0, 0), 2)\n",
        "    cv2.circle(image, (i[0], i[1]), 2, (0, 255, 0), 5)\n",
        "plt.imshow(blur, cmap='gray', vmin=0, vmax=255)\n",
        "plt.show()\n",
        "plt.imshow(image, cmap='gray', vmin=0, vmax=255)\n",
        "plt.show()\n"
      ],
      "execution_count": null,
      "outputs": []
    },
    {
      "cell_type": "markdown",
      "metadata": {
        "id": "U4LavjQyRIoA"
      },
      "source": [
        "# Hough Line Transform"
      ]
    },
    {
      "cell_type": "code",
      "metadata": {
        "id": "FqZTmGXg9_Wt"
      },
      "source": [
        ""
      ],
      "execution_count": null,
      "outputs": []
    },
    {
      "cell_type": "markdown",
      "metadata": {
        "id": "FXNODRw1RNMs"
      },
      "source": [
        "# Hough Cicle Transform"
      ]
    }
  ]
}